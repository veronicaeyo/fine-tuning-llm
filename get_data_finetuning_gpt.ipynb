{
 "cells": [
  {
   "cell_type": "code",
   "execution_count": 9,
   "metadata": {},
   "outputs": [],
   "source": [
    "from dotenv import load_dotenv\n",
    "import itertools\n",
    "from openai import OpenAI\n",
    "from pprint import pprint\n",
    "from datasets import load_dataset\n",
    "import json"
   ]
  },
  {
   "cell_type": "code",
   "execution_count": 2,
   "metadata": {},
   "outputs": [],
   "source": [
    "\n",
    "client = OpenAI()"
   ]
  },
  {
   "cell_type": "markdown",
   "metadata": {},
   "source": [
    "### revise openai completion"
   ]
  },
  {
   "cell_type": "code",
   "execution_count": 3,
   "metadata": {},
   "outputs": [],
   "source": [
    "\n",
    "\n",
    "response = client.chat.completions.create(\n",
    "  model=\"gpt-3.5-turbo\",\n",
    "  messages=[\n",
    "    {\"role\": \"system\", \"content\": \"You are a helpful assistant.\"},\n",
    "    {\"role\": \"user\", \"content\": \"Who won the world series in 2020?\"},\n",
    "    {\"role\": \"assistant\", \"content\": \"The Los Angeles Dodgers won the World Series in 2020.\"},\n",
    "    {\"role\": \"user\", \"content\": \"Where was it played?\"}\n",
    "  ]\n",
    ")"
   ]
  },
  {
   "cell_type": "code",
   "execution_count": 4,
   "metadata": {},
   "outputs": [
    {
     "name": "stdout",
     "output_type": "stream",
     "text": [
      "{'choices': [{'finish_reason': 'stop',\n",
      "              'index': 0,\n",
      "              'logprobs': None,\n",
      "              'message': {'content': 'The 2020 World Series was played at '\n",
      "                                     'Globe Life Field in Arlington, Texas.',\n",
      "                          'function_call': None,\n",
      "                          'role': 'assistant',\n",
      "                          'tool_calls': None}}],\n",
      " 'created': 1703104816,\n",
      " 'id': 'chatcmpl-8XxeSupkHUzWmCyYEZ0378XOMzRiK',\n",
      " 'model': 'gpt-3.5-turbo-0613',\n",
      " 'object': 'chat.completion',\n",
      " 'system_fingerprint': None,\n",
      " 'usage': {'completion_tokens': 17, 'prompt_tokens': 53, 'total_tokens': 70}}\n"
     ]
    }
   ],
   "source": [
    "pprint(json.loads(response.json()))"
   ]
  },
  {
   "cell_type": "code",
   "execution_count": 5,
   "metadata": {},
   "outputs": [],
   "source": [
    "response_json = json.loads(response.json())"
   ]
  },
  {
   "cell_type": "code",
   "execution_count": 6,
   "metadata": {},
   "outputs": [
    {
     "data": {
      "text/plain": [
       "'The 2020 World Series was played at Globe Life Field in Arlington, Texas.'"
      ]
     },
     "execution_count": 6,
     "metadata": {},
     "output_type": "execute_result"
    }
   ],
   "source": [
    "response_json['choices'][0]['message']['content']"
   ]
  },
  {
   "cell_type": "markdown",
   "metadata": {},
   "source": [
    "### :Load_dataset"
   ]
  },
  {
   "cell_type": "code",
   "execution_count": 18,
   "metadata": {},
   "outputs": [],
   "source": [
    "#pretrained_dataset = load_dataset(\"EleutherAI/pile\", split=\"train\", streaming=True)\n",
    "#use to train \n",
    "dataset = load_dataset(\"c4\", \"en\", split=\"train\", streaming=True)"
   ]
  },
  {
   "cell_type": "code",
   "execution_count": 19,
   "metadata": {},
   "outputs": [],
   "source": [
    "m = 10\n",
    "top_n = tuple(itertools.islice(dataset, m))\n",
    "\n"
   ]
  },
  {
   "cell_type": "code",
   "execution_count": 20,
   "metadata": {},
   "outputs": [
    {
     "name": "stdout",
     "output_type": "stream",
     "text": [
      "{'text': 'Beginners BBQ Class Taking Place in Missoula!\\n'\n",
      "         'Do you want to get better at making delicious BBQ? You will have the '\n",
      "         'opportunity, put this on your calendar now. Thursday, September 22nd '\n",
      "         'join World Class BBQ Champion, Tony Balay from Lonestar Smoke '\n",
      "         'Rangers. He will be teaching a beginner level class for everyone who '\n",
      "         'wants to get better with their culinary skills.\\n'\n",
      "         'He will teach you everything you need to know to compete in a KCBS '\n",
      "         'BBQ competition, including techniques, recipes, timelines, meat '\n",
      "         'selection and trimming, plus smoker and fire information.\\n'\n",
      "         'The cost to be in the class is $35 per person, and for spectators it '\n",
      "         'is free. Included in the cost will be either a t-shirt or apron and '\n",
      "         'you will be tasting samples of each meat that is prepared.',\n",
      " 'timestamp': '2019-04-25T12:57:54Z',\n",
      " 'url': 'https://klyq.com/beginners-bbq-class-taking-place-in-missoula/'}\n"
     ]
    }
   ],
   "source": [
    "pprint(top_n[0])"
   ]
  },
  {
   "cell_type": "code",
   "execution_count": 21,
   "metadata": {},
   "outputs": [
    {
     "data": {
      "text/plain": [
       "'Discussion in \\'Mac OS X Lion (10.7)\\' started by axboi87, Jan 20, 2012.\\nI\\'ve got a 500gb internal drive and a 240gb SSD.\\nWhen trying to restore using disk utility i\\'m given the error \"Not enough space on disk ____ to restore\"\\nBut I shouldn\\'t have to do that!!!\\nAny ideas or workarounds before resorting to the above?\\nUse Carbon Copy Cloner to copy one drive to the other. I\\'ve done this several times going from larger HDD to smaller SSD and I wound up with a bootable SSD drive. One step you have to remember not to skip is to use Disk Utility to partition the SSD as GUID partition scheme HFS+ before doing the clone. If it came Apple Partition Scheme, even if you let CCC do the clone, the resulting drive won\\'t be bootable. CCC usually works in \"file mode\" and it can easily copy a larger drive (that\\'s mostly empty) onto a smaller drive. If you tell CCC to clone a drive you did NOT boot from, it can work in block copy mode where the destination drive must be the same size or larger than the drive you are cloning from (if I recall).\\nI\\'ve actually done this somehow on Disk Utility several times (booting from a different drive (or even the dvd) so not running disk utility from the drive your cloning) and had it work just fine from larger to smaller bootable clone. Definitely format the drive cloning to first, as bootable Apple etc..\\nThanks for pointing this out. My only experience using DU to go larger to smaller was when I was trying to make a Lion install stick and I was unable to restore InstallESD.dmg to a 4 GB USB stick but of course the reason that wouldn\\'t fit is there was slightly more than 4 GB of data.'"
      ]
     },
     "execution_count": 21,
     "metadata": {},
     "output_type": "execute_result"
    }
   ],
   "source": [
    "text_list = tuple(map(lambda x: x['text'], top_n))\n",
    "text_list[1]"
   ]
  },
  {
   "cell_type": "markdown",
   "metadata": {},
   "source": [
    "### prompt template"
   ]
  },
  {
   "cell_type": "code",
   "execution_count": 29,
   "metadata": {},
   "outputs": [],
   "source": [
    "template = \"\"\" \n",
    "Given the text below, generate two question-and-answer pairs from the text in jsonl format, where the keys are \"question and \"answer\"\n",
    "\"{text}\"\n",
    "\n",
    "\"\"\""
   ]
  },
  {
   "cell_type": "code",
   "execution_count": 30,
   "metadata": {},
   "outputs": [],
   "source": [
    "\n",
    "response = client.chat.completions.create(\n",
    "  model=\"gpt-3.5-turbo\",\n",
    "  messages=[\n",
    "    {\"role\": \"user\", \"content\": template.format(text = text_list[0])},\n",
    "  ]\n",
    ")"
   ]
  },
  {
   "cell_type": "code",
   "execution_count": 32,
   "metadata": {},
   "outputs": [
    {
     "name": "stdout",
     "output_type": "stream",
     "text": [
      "('[\\n'\n",
      " '  {\"question\": \"Who is teaching the beginners BBQ class?\", \"answer\": \"Tony '\n",
      " 'Balay from Lonestar Smoke Rangers.\"},\\n'\n",
      " '  {\"question\": \"What will be included in the cost of the class?\", \"answer\": '\n",
      " '\"A t-shirt or apron and tasting samples of each prepared meat.\"}\\n'\n",
      " ']')\n"
     ]
    }
   ],
   "source": [
    "pprint(json.loads(response.json())[\"choices\"][0][\"message\"][\"content\"])"
   ]
  },
  {
   "cell_type": "code",
   "execution_count": 49,
   "metadata": {},
   "outputs": [],
   "source": [
    "def get_response(text: str):\n",
    "    template = \"\"\" \n",
    "    Given the text below, generate two question-and-answer pairs from the text as a list of json, where the keys are \"question and \"answer\"\n",
    "    do not try to make up questions that are not in the text, you can skip questions if you need to.\n",
    "    \"{text}\"\n",
    "\n",
    "    \"\"\"\n",
    "    response = client.chat.completions.create(\n",
    "        model=\"gpt-3.5-turbo\",\n",
    "        messages=[\n",
    "            {\"role\": \"user\", \"content\": template.format(text=text)},\n",
    "        ],\n",
    "    )\n",
    "    response_msg = json.loads(response.json())[\"choices\"][0][\"message\"][\"content\"]\n",
    "    # return json.loads(response_msg)\n",
    "\n",
    "    try:\n",
    "        result = json.loads(response_msg)\n",
    "    except:\n",
    "        print(response_msg)\n",
    "    return result"
   ]
  },
  {
   "cell_type": "code",
   "execution_count": 50,
   "metadata": {},
   "outputs": [],
   "source": [
    "import time\n",
    "\n",
    "result_list = []\n",
    "for text in text_list[:5]:\n",
    "    result = get_response(text)\n",
    "    # pprint(result)\n",
    "    result_list.extend(result)\n",
    "    time.sleep(10)"
   ]
  },
  {
   "cell_type": "code",
   "execution_count": 51,
   "metadata": {},
   "outputs": [
    {
     "name": "stdout",
     "output_type": "stream",
     "text": [
      "[{'answer': 'Tony Balay from Lonestar Smoke Rangers.',\n",
      "  'question': 'Who will be teaching the BBQ class in Missoula?'},\n",
      " {'answer': '$35 per person.',\n",
      "  'question': 'How much does it cost to participate in the class?'},\n",
      " {'answer': \"The person is receiving the error message 'Not enough space on \"\n",
      "            \"disk ____ to restore.'\",\n",
      "  'question': 'What error message is the person receiving when trying to '\n",
      "              'restore using disk utility?'},\n",
      " {'answer': 'The person suggests using Carbon Copy Cloner to copy one drive to '\n",
      "            'the other.',\n",
      "  'question': 'What method does the person suggest using to copy one drive to '\n",
      "              'the other?'},\n",
      " {'answer': 'The shortall is made of foil plaid lycra and spandex with '\n",
      "            'metallic slinky insets.',\n",
      "  'question': 'What material is the shortall made of?'},\n",
      " {'answer': 'The shortall comes with an attached metallic elastic belt with an '\n",
      "            'O-ring and a headband.',\n",
      "  'question': 'What is included with the shortall?'},\n",
      " {'answer': 'There is no exact number, but it is generally recommended to '\n",
      "            'start with a smaller number and gradually increase it over time '\n",
      "            'to avoid penalties.',\n",
      "  'question': \"For a newly created site, what's the max number of backlinks \"\n",
      "              'per day I should do to be safe?'},\n",
      " {'answer': 'There is no specific timeframe, but it is advisable to let your '\n",
      "            'site establish some authority and credibility before engaging in '\n",
      "            'aggressive backlink building strategies.',\n",
      "  'question': 'How long do I have to let my site age before I can start making '\n",
      "              'more backlinks?'},\n",
      " {'answer': 'The purpose of the $572 million General Obligation Bond is to '\n",
      "            'build and improve schools.',\n",
      "  'question': 'What is the purpose of the $572 million General Obligation '\n",
      "              'Bond?'},\n",
      " {'answer': 'Denver voters approved bond and mill funding measures for '\n",
      "            'students in Denver Public Schools. The bond funding is for '\n",
      "            'building and improving schools, while the mill funding is for '\n",
      "            'supporting proven initiatives, such as early literacy.',\n",
      "  'question': 'What were the funding measures approved by Denver voters?'}]\n"
     ]
    }
   ],
   "source": [
    "pprint(result_list)"
   ]
  },
  {
   "cell_type": "code",
   "execution_count": 53,
   "metadata": {},
   "outputs": [],
   "source": [
    "with jsonlines.open(f'json/gpt_c4.jsonl', 'w') as writer:\n",
    "    writer.write_all(result_list)"
   ]
  }
 ],
 "metadata": {
  "kernelspec": {
   "display_name": "openai",
   "language": "python",
   "name": "python3"
  },
  "language_info": {
   "codemirror_mode": {
    "name": "ipython",
    "version": 3
   },
   "file_extension": ".py",
   "mimetype": "text/x-python",
   "name": "python",
   "nbconvert_exporter": "python",
   "pygments_lexer": "ipython3",
   "version": "3.11.5"
  }
 },
 "nbformat": 4,
 "nbformat_minor": 2
}
